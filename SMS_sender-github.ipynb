{
 "cells": [
  {
   "cell_type": "markdown",
   "id": "0c27b76b-f52f-47dc-8901-719fb7396543",
   "metadata": {},
   "source": [
    "# 여기서부터 순서대로 다 실행하기"
   ]
  },
  {
   "cell_type": "code",
   "execution_count": 1,
   "id": "004487bc-5445-4666-af4f-e57b9f5d6ad7",
   "metadata": {},
   "outputs": [
    {
     "name": "stdout",
     "output_type": "stream",
     "text": [
      "Requirement already satisfied: google-auth in c:\\anaconda24\\lib\\site-packages (2.29.0)\n",
      "Requirement already satisfied: cachetools<6.0,>=2.0.0 in c:\\anaconda24\\lib\\site-packages (from google-auth) (4.2.2)\n",
      "Requirement already satisfied: pyasn1-modules>=0.2.1 in c:\\anaconda24\\lib\\site-packages (from google-auth) (0.2.8)\n",
      "Requirement already satisfied: rsa<5,>=3.1.4 in c:\\anaconda24\\lib\\site-packages (from google-auth) (4.9)\n",
      "Requirement already satisfied: pyasn1<0.5.0,>=0.4.6 in c:\\anaconda24\\lib\\site-packages (from pyasn1-modules>=0.2.1->google-auth) (0.4.8)\n",
      "Requirement already satisfied: twilio in c:\\anaconda24\\lib\\site-packages (9.0.5)\n",
      "Requirement already satisfied: requests>=2.0.0 in c:\\anaconda24\\lib\\site-packages (from twilio) (2.31.0)\n",
      "Requirement already satisfied: PyJWT<3.0.0,>=2.0.0 in c:\\anaconda24\\lib\\site-packages (from twilio) (2.4.0)\n",
      "Requirement already satisfied: aiohttp>=3.8.4 in c:\\anaconda24\\lib\\site-packages (from twilio) (3.9.3)\n",
      "Requirement already satisfied: aiohttp-retry>=2.8.3 in c:\\anaconda24\\lib\\site-packages (from twilio) (2.8.3)\n",
      "Requirement already satisfied: aiosignal>=1.1.2 in c:\\anaconda24\\lib\\site-packages (from aiohttp>=3.8.4->twilio) (1.2.0)\n",
      "Requirement already satisfied: attrs>=17.3.0 in c:\\anaconda24\\lib\\site-packages (from aiohttp>=3.8.4->twilio) (23.2.0)\n",
      "Requirement already satisfied: frozenlist>=1.1.1 in c:\\anaconda24\\lib\\site-packages (from aiohttp>=3.8.4->twilio) (1.4.0)\n",
      "Requirement already satisfied: multidict<7.0,>=4.5 in c:\\anaconda24\\lib\\site-packages (from aiohttp>=3.8.4->twilio) (6.0.4)\n",
      "Requirement already satisfied: yarl<2.0,>=1.0 in c:\\anaconda24\\lib\\site-packages (from aiohttp>=3.8.4->twilio) (1.9.3)\n",
      "Requirement already satisfied: charset-normalizer<4,>=2 in c:\\anaconda24\\lib\\site-packages (from requests>=2.0.0->twilio) (2.0.4)\n",
      "Requirement already satisfied: idna<4,>=2.5 in c:\\anaconda24\\lib\\site-packages (from requests>=2.0.0->twilio) (3.4)\n",
      "Requirement already satisfied: urllib3<3,>=1.21.1 in c:\\anaconda24\\lib\\site-packages (from requests>=2.0.0->twilio) (2.0.7)\n",
      "Requirement already satisfied: certifi>=2017.4.17 in c:\\anaconda24\\lib\\site-packages (from requests>=2.0.0->twilio) (2024.2.2)\n"
     ]
    }
   ],
   "source": [
    "!pip install google-auth\n",
    "!pip install twilio"
   ]
  },
  {
   "cell_type": "code",
   "execution_count": 2,
   "id": "1d27d371-7bf8-4c0e-b543-d873d5993f58",
   "metadata": {},
   "outputs": [
    {
     "name": "stdout",
     "output_type": "stream",
     "text": [
      "True\n"
     ]
    }
   ],
   "source": [
    "import os\n",
    "\n",
    "json_file_path = '####.json'\n",
    "print(os.path.exists(json_file_path))\n",
    "\n",
    "import tkinter as tk\n",
    "from tkinter import simpledialog, messagebox, Label, Entry, Button, Toplevel\n",
    "\n",
    "import gspread\n",
    "from google.oauth2.service_account import Credentials\n",
    "from datetime import datetime\n",
    "\n",
    "from twilio.rest import Client"
   ]
  },
  {
   "cell_type": "code",
   "execution_count": 3,
   "id": "e6be9987-d220-445a-87fd-eec1cf573f57",
   "metadata": {},
   "outputs": [],
   "source": [
    "scope = ['https://spreadsheets.google.com/feeds', 'https://www.googleapis.com/auth/drive']\n",
    "json = '####.json'\n",
    "credentials = Credentials.from_service_account_file(json, scopes = scope)\n",
    "gc = gspread.authorize(credentials)\n",
    "sheet_url = 'https://docs.google.com/spreadsheets/d/1j1Md6qe-_tYfJ6NTIwxNQFw-9ohFYelyZBz8eWn0KbY/edit?hl=ko#gid=0'\n",
    "doc = gc.open_by_url(sheet_url)\n",
    "worksheet = doc.worksheet('DB')"
   ]
  },
  {
   "cell_type": "code",
   "execution_count": 4,
   "id": "08ae637c-b12e-49d7-adc6-3b117eac0ed0",
   "metadata": {},
   "outputs": [],
   "source": [
    "class Queue:\n",
    "    def __init__(self):\n",
    "        self.queue = []\n",
    "        scopes = ['https://www.googleapis.com/auth/spreadsheets', 'https://www.googleapis.com/auth/drive']\n",
    "        json = '####.json'  \n",
    "        sheet_url = 'https://docs.google.com/spreadsheets/d/1j1Md6qe-_tYfJ6NTIwxNQFw-9ohFYelyZBz8eWn0KbY/edit?hl=ko#gid=0'\n",
    "        worksheet = doc.worksheet('DB')\n",
    "        credentials = Credentials.from_service_account_file(json, scopes=scopes)\n",
    "        self.client = gspread.authorize(credentials)\n",
    "        self.sheet = self.client.open_by_url(sheet_url).sheet1\n",
    "\n",
    "    def enqueue(self, name, phone, people):\n",
    "        col_values = len(worksheet.col_values(1)) + 1\n",
    "        # 데이터를 큐에 추가\n",
    "        self.queue.append((name, phone, people))\n",
    "        # 바로 구글 시트에 데이터 저장\n",
    "        self.sheet.insert_row([name, phone, people], col_values)\n",
    "    \n",
    "    def dequeue(self):\n",
    "        if not self.is_empty():\n",
    "            return self.queue.pop(0)\n",
    "        else:\n",
    "            raise IndexError(\"Queue is empty\")\n",
    "\n",
    "    def is_empty(self):\n",
    "        return len(self.queue) == 0\n",
    "\n",
    "    def size(self):\n",
    "        return len(self.queue)\n",
    "\n",
    "# 큐 및 구글 시트 매니저 초기화\n",
    "DB = Queue()"
   ]
  },
  {
   "cell_type": "code",
   "execution_count": 10,
   "id": "65571e79-49a1-49c4-9e8b-e95465885c4b",
   "metadata": {
    "collapsed": true,
    "jupyter": {
     "outputs_hidden": true,
     "source_hidden": true
    },
    "scrolled": true
   },
   "outputs": [
    {
     "name": "stdin",
     "output_type": "stream",
     "text": [
      "이름을 입력하세요 (종료하려면 빈 문자열 입력):  \n"
     ]
    }
   ],
   "source": [
    "def get_user_input():\n",
    "    while True:\n",
    "        name = input(\"이름을 입력하세요 (종료하려면 빈 문자열 입력): \")\n",
    "        if name == \"\":\n",
    "            break\n",
    "        while True:\n",
    "            phone_number = input(\"전화번호를 입력하세요 (11자리 숫자): \")\n",
    "            if phone_number.isdigit() and len(phone_number) == 11:\n",
    "                break\n",
    "            print(\"전화번호는 11자리 숫자여야 합니다. 다시 입력해주세요.\")\n",
    "        count = int(input(\"인원 수를 입력하세요: \"))\n",
    "        DB.enqueue(name, phone_number, count)\n",
    "\n",
    "\n",
    "user_entries = get_user_input()"
   ]
  },
  {
   "cell_type": "markdown",
   "id": "7470941e-ff3d-4fe5-bceb-c93e8d24f86a",
   "metadata": {},
   "source": [
    "# 학생 정보 입력 받기"
   ]
  },
  {
   "cell_type": "code",
   "execution_count": 7,
   "id": "b89a1714-4ede-4f8b-9548-43a719dd8cd9",
   "metadata": {},
   "outputs": [
    {
     "ename": "AttributeError",
     "evalue": "'NoneType' object has no attribute 'isdigit'",
     "output_type": "error",
     "traceback": [
      "\u001b[1;31m---------------------------------------------------------------------------\u001b[0m",
      "\u001b[1;31mAttributeError\u001b[0m                            Traceback (most recent call last)",
      "Cell \u001b[1;32mIn[7], line 19\u001b[0m\n\u001b[0;32m     16\u001b[0m         DB\u001b[38;5;241m.\u001b[39menqueue(name, phone_number, count)\n\u001b[0;32m     17\u001b[0m         \u001b[38;5;28mprint\u001b[39m(\u001b[38;5;124mf\u001b[39m\u001b[38;5;124m\"\u001b[39m\u001b[38;5;124m입력된 정보: \u001b[39m\u001b[38;5;132;01m{\u001b[39;00mname\u001b[38;5;132;01m}\u001b[39;00m\u001b[38;5;124m, \u001b[39m\u001b[38;5;132;01m{\u001b[39;00mphone_number\u001b[38;5;132;01m}\u001b[39;00m\u001b[38;5;124m, \u001b[39m\u001b[38;5;132;01m{\u001b[39;00mcount\u001b[38;5;132;01m}\u001b[39;00m\u001b[38;5;124m\"\u001b[39m)\n\u001b[1;32m---> 19\u001b[0m get_user_input()\n",
      "Cell \u001b[1;32mIn[7], line 11\u001b[0m, in \u001b[0;36mget_user_input\u001b[1;34m()\u001b[0m\n\u001b[0;32m      9\u001b[0m \u001b[38;5;28;01mwhile\u001b[39;00m \u001b[38;5;28;01mTrue\u001b[39;00m:\n\u001b[0;32m     10\u001b[0m     phone_number \u001b[38;5;241m=\u001b[39m simpledialog\u001b[38;5;241m.\u001b[39maskstring(\u001b[38;5;124m\"\u001b[39m\u001b[38;5;124m입력\u001b[39m\u001b[38;5;124m\"\u001b[39m, \u001b[38;5;124m\"\u001b[39m\u001b[38;5;124m전화번호를 입력하세요 (11자리 숫자만 only number):\u001b[39m\u001b[38;5;124m\"\u001b[39m, parent\u001b[38;5;241m=\u001b[39mroot)\n\u001b[1;32m---> 11\u001b[0m     \u001b[38;5;28;01mif\u001b[39;00m phone_number\u001b[38;5;241m.\u001b[39misdigit() \u001b[38;5;129;01mand\u001b[39;00m \u001b[38;5;28mlen\u001b[39m(phone_number) \u001b[38;5;241m==\u001b[39m \u001b[38;5;241m11\u001b[39m:\n\u001b[0;32m     12\u001b[0m         \u001b[38;5;28;01mbreak\u001b[39;00m  \u001b[38;5;66;03m# 전화번호가 조건에 맞으면 while 루프를 빠져나옵니다.\u001b[39;00m\n\u001b[0;32m     13\u001b[0m     messagebox\u001b[38;5;241m.\u001b[39mshowerror(\u001b[38;5;124m\"\u001b[39m\u001b[38;5;124m입력 오류\u001b[39m\u001b[38;5;124m\"\u001b[39m, \u001b[38;5;124m\"\u001b[39m\u001b[38;5;124m전화번호는 11자리 숫자여야 합니다. 다시 입력해주세요.\u001b[39m\u001b[38;5;124m\"\u001b[39m, parent\u001b[38;5;241m=\u001b[39mroot)\n",
      "\u001b[1;31mAttributeError\u001b[0m: 'NoneType' object has no attribute 'isdigit'"
     ]
    }
   ],
   "source": [
    "def get_user_input():\n",
    "    root = tk.Tk()\n",
    "    root.withdraw()  # 메인 윈도우 숨기기\n",
    "\n",
    "    while True:\n",
    "        name = simpledialog.askstring(\"입력\", \"이름을 입력하세요 (종료하려면 빈 문자열 입력):\", parent=root)\n",
    "        if name == \"\":\n",
    "            break\n",
    "        while True:\n",
    "            phone_number = simpledialog.askstring(\"입력\", \"전화번호를 입력하세요 (11자리 숫자만 only number):\", parent=root)\n",
    "            if phone_number.isdigit() and len(phone_number) == 11:\n",
    "                break  # 전화번호가 조건에 맞으면 while 루프를 빠져나옵니다.\n",
    "            messagebox.showerror(\"입력 오류\", \"전화번호는 11자리 숫자여야 합니다. 다시 입력해주세요.\", parent=root)\n",
    "        count = simpledialog.askinteger(\"입력\", \"인원 수를 입력하세요:\", parent=root)\n",
    "\n",
    "        DB.enqueue(name, phone_number, count)\n",
    "        print(f\"입력된 정보: {name}, {phone_number}, {count}\")\n",
    "\n",
    "get_user_input()"
   ]
  },
  {
   "cell_type": "markdown",
   "id": "51fe4d6a-4868-48c5-9053-6fa81e6d7909",
   "metadata": {},
   "source": [
    "# 문자보내기"
   ]
  },
  {
   "cell_type": "code",
   "execution_count": 8,
   "id": "b790b68a-f675-4657-8624-c9ecdab47d6c",
   "metadata": {},
   "outputs": [],
   "source": [
    "def send_sms():\n",
    "    root = tk.Tk()\n",
    "    root.withdraw()\n",
    "\n",
    "    while True:\n",
    "        seq = simpledialog.askinteger(\"입력\", \"몇 번째 학생에게 문자를 보낼까요? : [엑셀 row값]\", parent=root)\n",
    "        if seq is None:  # 사용자가 취소 버튼을 눌렀을 때\n",
    "            messagebox.showinfo(\"알림\", \"작업이 취소되었습니다.\")\n",
    "            break\n",
    "        name = worksheet.cell(seq, 1).value\n",
    "        phone_number = worksheet.cell(seq, 2).value\n",
    "        if phone_number.startswith('0'):\n",
    "            phone_number = '+82' + phone_number[1:]\n",
    "        people = worksheet.cell(seq, 3).value\n",
    "        \n",
    "        account_sid = '##'\n",
    "        auth_token = '##'\n",
    "        client = Client(account_sid, auth_token)\n",
    "    \n",
    "        try:\n",
    "            message = client.messages.create(\n",
    "                body=f'{name}님 기다리느라 고생하셨어요! 지금 [유영 포토부스]에 입장해주세요. 해당문자를 보여주시면 안내 도와드리겠습니다',\n",
    "                from_='+15307231735',\n",
    "                to=phone_number\n",
    "            )\n",
    "            status = \"전송완료\"\n",
    "            messagebox.showinfo(\"전송 완료\", f\"{phone_number} 번호로 {name}에게 {people}명에게 문자 전송 완료\")\n",
    "        except Exception as e:\n",
    "            status = \"실패\"\n",
    "            print (\"전송실패\")\n",
    "            print(f\"Failed to send message: {str(e)}\")\n",
    "    \n",
    "        timestamp = datetime.now().strftime(\"%H시 %M분 %S초\")\n",
    "        worksheet.update_cell(seq, 5, status)\n",
    "        worksheet.update_cell(seq, 6, timestamp)\n",
    "        continue_answer = messagebox.askyesno(\"계속\", \"다른 학생에게도 문자를 보내시겠습니까?\")\n",
    "        if not continue_answer:\n",
    "            break\n",
    "            \n",
    "    root.destroy()\n",
    "send_sms()"
   ]
  }
 ],
 "metadata": {
  "kernelspec": {
   "display_name": "Python 3 (ipykernel)",
   "language": "python",
   "name": "python3"
  },
  "language_info": {
   "codemirror_mode": {
    "name": "ipython",
    "version": 3
   },
   "file_extension": ".py",
   "mimetype": "text/x-python",
   "name": "python",
   "nbconvert_exporter": "python",
   "pygments_lexer": "ipython3",
   "version": "3.11.7"
  }
 },
 "nbformat": 4,
 "nbformat_minor": 5
}
